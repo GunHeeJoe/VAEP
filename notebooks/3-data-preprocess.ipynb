{
 "cells": [
  {
   "cell_type": "code",
   "execution_count": 49,
   "metadata": {},
   "outputs": [],
   "source": [
    "import sys\n",
    "import os\n",
    "\n",
    "# 현재 디렉토리의 상위 폴더 경로를 구합니다.\n",
    "# matplotsoccer를 설치(pip)해서 라이브러리르 사용할 수 있지만, 본 연구에서는 좀 더 시각적으로 설명하기 위해 라이브러리를 조금 수정해보았다\n",
    "parent_dir = os.path.dirname(os.getcwd())\n",
    "\n",
    "# 상위 폴더 경로를 sys.path에 추가합니다.\n",
    "sys.path.insert(0, parent_dir)"
   ]
  },
  {
   "cell_type": "code",
   "execution_count": 50,
   "metadata": {},
   "outputs": [],
   "source": [
    "import os\n",
    "import warnings\n",
    "import tqdm\n",
    "import pandas as pd\n",
    "import numpy as np\n",
    "warnings.simplefilter(action='ignore', category=pd.errors.PerformanceWarning)"
   ]
  },
  {
   "cell_type": "code",
   "execution_count": 51,
   "metadata": {},
   "outputs": [
    {
     "name": "stdout",
     "output_type": "stream",
     "text": [
      "The autoreload extension is already loaded. To reload it, use:\n",
      "  %reload_ext autoreload\n"
     ]
    }
   ],
   "source": [
    "%load_ext autoreload\n",
    "%autoreload 2\n",
    "import socceraction.vaep.features as fs\n",
    "import socceraction.vaep.labels as lab"
   ]
  },
  {
   "cell_type": "code",
   "execution_count": 52,
   "metadata": {},
   "outputs": [],
   "source": [
    "spadl_datafolder = \"../data-fifa/La Liga/spadl-statsbomb/\"\n",
    "feature_datafolder = \"../data-fifa/La Liga/feature/\"\n",
    "label_datafoler = \"../data-fifa/La Liga/label/\"\n",
    "\n",
    "\n",
    "train_spadl_h5 = os.path.join(spadl_datafolder, \"train_competitions.h5\")\n",
    "train_features_h5 = os.path.join(feature_datafolder, \"train_features.h5\")\n",
    "train_labels_h5 = os.path.join(label_datafoler, \"train_labels.h5\")\n",
    "\n",
    "valid_spadl_h5 = os.path.join(spadl_datafolder, \"valid_competitions.h5\")\n",
    "valid_features_h5 = os.path.join(feature_datafolder, \"valid_features.h5\")\n",
    "valid_labels_h5 = os.path.join(label_datafoler, \"valid_labels.h5\")\n",
    "\n",
    "test_spadl_h5 = os.path.join(spadl_datafolder, \"test_competitions.h5\")\n",
    "test_features_h5 = os.path.join(feature_datafolder, \"test_features.h5\")\n",
    "test_labels_h5 = os.path.join(label_datafoler, \"test_labels.h5\")"
   ]
  },
  {
   "cell_type": "code",
   "execution_count": 53,
   "metadata": {},
   "outputs": [
    {
     "name": "stdout",
     "output_type": "stream",
     "text": [
      "nb of games: 800\n",
      "nb of games: 33\n",
      "nb of games: 35\n"
     ]
    }
   ],
   "source": [
    "train_games = pd.read_hdf(train_spadl_h5, \"games\")\n",
    "print(\"nb of games:\", len(train_games))\n",
    "\n",
    "valid_games = pd.read_hdf(valid_spadl_h5, \"games\")\n",
    "print(\"nb of games:\", len(valid_games))\n",
    "\n",
    "test_games = pd.read_hdf(test_spadl_h5, \"games\")\n",
    "print(\"nb of games:\", len(test_games))"
   ]
  },
  {
   "cell_type": "code",
   "execution_count": 54,
   "metadata": {},
   "outputs": [],
   "source": [
    "#Select feature set X\n",
    "\n",
    "xfns = [\n",
    "    fs.actiontype,\n",
    "    fs.actiontype_onehot,\n",
    "    \n",
    "    #foot, head, head/other, other\n",
    "    #foot중 왼/오른발 구분은 bodypart에서 하지 않음\n",
    "    fs.bodypart,\n",
    "    fs.bodypart_onehot,\n",
    "    \n",
    "    #각 수행한 액션의 왼/ 오른발로 구분함\n",
    "    # fs.bodypart_detailed,\n",
    "    # fs.bodypart_detailed_onehot,\n",
    "    \n",
    "    fs.result,\n",
    "    fs.result_onehot,\n",
    "    \n",
    "    #goalscore_team, goalscore_opponent, goalscore_diff 3개의 feature를 불러옴\n",
    "    fs.goalscore,\n",
    "    \n",
    "    #action type and result사이의 원핫인코딩값?\n",
    "    # fs.actiontype_result_onehot,\n",
    "    \n",
    "    \n",
    "    #action의 시작, 끝 위치\n",
    "    fs.startlocation,\n",
    "    fs.endlocation,\n",
    "    \n",
    "    #movement는 x좌표변화량, y좌표변화량\n",
    "    fs.movement,\n",
    "    \n",
    "    #space_delta는 (x,y)좌표의 변화량\n",
    "    fs.space_delta,\n",
    "    \n",
    "    #startlocation, endloaction에서 goal까지 거리랑 각도\n",
    "    fs.startpolar,\n",
    "    fs.endpolar,\n",
    "    \n",
    "    #home인지 away인지\n",
    "    fs.team,\n",
    "    \n",
    "    #time : 3가지 feature가 나옴\n",
    "    #1.period_id = 전반1 / 후반2\n",
    "    #2.time_seconds = 전/후반의 시작 후에 time\n",
    "    #3.time_seconds_overall = 게임시작후 초\n",
    "    # fs.time,\n",
    "    \n",
    "    #time_delta1 = 현 action time_seconds - 전 action time_seconds\n",
    "    #time_delta2 = 현 action time_seconds - 전전 action time_seconds\n",
    "    fs.time_delta,\n",
    "    \n",
    "]\n"
   ]
  },
  {
   "cell_type": "code",
   "execution_count": 55,
   "metadata": {},
   "outputs": [
    {
     "data": {
      "text/plain": [
       "['type_id_a0',\n",
       " 'type_id_a1',\n",
       " 'type_id_a2',\n",
       " 'type_pass_a0',\n",
       " 'type_cross_a0',\n",
       " 'type_throw_in_a0',\n",
       " 'type_freekick_crossed_a0',\n",
       " 'type_freekick_short_a0',\n",
       " 'type_corner_crossed_a0',\n",
       " 'type_corner_short_a0',\n",
       " 'type_take_on_a0',\n",
       " 'type_foul_a0',\n",
       " 'type_tackle_a0',\n",
       " 'type_interception_a0',\n",
       " 'type_shot_a0',\n",
       " 'type_shot_penalty_a0',\n",
       " 'type_shot_freekick_a0',\n",
       " 'type_keeper_save_a0',\n",
       " 'type_keeper_claim_a0',\n",
       " 'type_keeper_punch_a0',\n",
       " 'type_keeper_pick_up_a0',\n",
       " 'type_clearance_a0',\n",
       " 'type_bad_touch_a0',\n",
       " 'type_non_action_a0',\n",
       " 'type_dribble_a0',\n",
       " 'type_goalkick_a0',\n",
       " 'type_pass_a1',\n",
       " 'type_cross_a1',\n",
       " 'type_throw_in_a1',\n",
       " 'type_freekick_crossed_a1',\n",
       " 'type_freekick_short_a1',\n",
       " 'type_corner_crossed_a1',\n",
       " 'type_corner_short_a1',\n",
       " 'type_take_on_a1',\n",
       " 'type_foul_a1',\n",
       " 'type_tackle_a1',\n",
       " 'type_interception_a1',\n",
       " 'type_shot_a1',\n",
       " 'type_shot_penalty_a1',\n",
       " 'type_shot_freekick_a1',\n",
       " 'type_keeper_save_a1',\n",
       " 'type_keeper_claim_a1',\n",
       " 'type_keeper_punch_a1',\n",
       " 'type_keeper_pick_up_a1',\n",
       " 'type_clearance_a1',\n",
       " 'type_bad_touch_a1',\n",
       " 'type_non_action_a1',\n",
       " 'type_dribble_a1',\n",
       " 'type_goalkick_a1',\n",
       " 'type_pass_a2',\n",
       " 'type_cross_a2',\n",
       " 'type_throw_in_a2',\n",
       " 'type_freekick_crossed_a2',\n",
       " 'type_freekick_short_a2',\n",
       " 'type_corner_crossed_a2',\n",
       " 'type_corner_short_a2',\n",
       " 'type_take_on_a2',\n",
       " 'type_foul_a2',\n",
       " 'type_tackle_a2',\n",
       " 'type_interception_a2',\n",
       " 'type_shot_a2',\n",
       " 'type_shot_penalty_a2',\n",
       " 'type_shot_freekick_a2',\n",
       " 'type_keeper_save_a2',\n",
       " 'type_keeper_claim_a2',\n",
       " 'type_keeper_punch_a2',\n",
       " 'type_keeper_pick_up_a2',\n",
       " 'type_clearance_a2',\n",
       " 'type_bad_touch_a2',\n",
       " 'type_non_action_a2',\n",
       " 'type_dribble_a2',\n",
       " 'type_goalkick_a2',\n",
       " 'bodypart_id_a0',\n",
       " 'bodypart_id_a1',\n",
       " 'bodypart_id_a2',\n",
       " 'bodypart_foot_a0',\n",
       " 'bodypart_head_a0',\n",
       " 'bodypart_other_a0',\n",
       " 'bodypart_head/other_a0',\n",
       " 'bodypart_foot_a1',\n",
       " 'bodypart_head_a1',\n",
       " 'bodypart_other_a1',\n",
       " 'bodypart_head/other_a1',\n",
       " 'bodypart_foot_a2',\n",
       " 'bodypart_head_a2',\n",
       " 'bodypart_other_a2',\n",
       " 'bodypart_head/other_a2',\n",
       " 'result_id_a0',\n",
       " 'result_id_a1',\n",
       " 'result_id_a2',\n",
       " 'result_fail_a0',\n",
       " 'result_success_a0',\n",
       " 'result_offside_a0',\n",
       " 'result_owngoal_a0',\n",
       " 'result_yellow_card_a0',\n",
       " 'result_red_card_a0',\n",
       " 'result_fail_a1',\n",
       " 'result_success_a1',\n",
       " 'result_offside_a1',\n",
       " 'result_owngoal_a1',\n",
       " 'result_yellow_card_a1',\n",
       " 'result_red_card_a1',\n",
       " 'result_fail_a2',\n",
       " 'result_success_a2',\n",
       " 'result_offside_a2',\n",
       " 'result_owngoal_a2',\n",
       " 'result_yellow_card_a2',\n",
       " 'result_red_card_a2',\n",
       " 'goalscore_team',\n",
       " 'goalscore_opponent',\n",
       " 'goalscore_diff',\n",
       " 'start_x_a0',\n",
       " 'start_y_a0',\n",
       " 'start_x_a1',\n",
       " 'start_y_a1',\n",
       " 'start_x_a2',\n",
       " 'start_y_a2',\n",
       " 'end_x_a0',\n",
       " 'end_y_a0',\n",
       " 'end_x_a1',\n",
       " 'end_y_a1',\n",
       " 'end_x_a2',\n",
       " 'end_y_a2',\n",
       " 'dx_a0',\n",
       " 'dy_a0',\n",
       " 'movement_a0',\n",
       " 'dx_a1',\n",
       " 'dy_a1',\n",
       " 'movement_a1',\n",
       " 'dx_a2',\n",
       " 'dy_a2',\n",
       " 'movement_a2',\n",
       " 'dx_a01',\n",
       " 'dy_a01',\n",
       " 'mov_a01',\n",
       " 'dx_a02',\n",
       " 'dy_a02',\n",
       " 'mov_a02',\n",
       " 'start_dist_to_goal_a0',\n",
       " 'start_angle_to_goal_a0',\n",
       " 'start_dist_to_goal_a1',\n",
       " 'start_angle_to_goal_a1',\n",
       " 'start_dist_to_goal_a2',\n",
       " 'start_angle_to_goal_a2',\n",
       " 'end_dist_to_goal_a0',\n",
       " 'end_angle_to_goal_a0',\n",
       " 'end_dist_to_goal_a1',\n",
       " 'end_angle_to_goal_a1',\n",
       " 'end_dist_to_goal_a2',\n",
       " 'end_angle_to_goal_a2',\n",
       " 'team_1',\n",
       " 'team_2',\n",
       " 'time_delta_1',\n",
       " 'time_delta_2']"
      ]
     },
     "execution_count": 55,
     "metadata": {},
     "output_type": "execute_result"
    }
   ],
   "source": [
    "nb_prev_actions = 3\n",
    "\n",
    "Xcols = fs.feature_column_names(xfns, nb_prev_actions)\n",
    "Xcols"
   ]
  },
  {
   "cell_type": "code",
   "execution_count": 56,
   "metadata": {},
   "outputs": [],
   "source": [
    "def getXY(games, Xcols, features_h5, labels_h5):\n",
    "    X = []\n",
    "    for game_id in tqdm.tqdm(games.game_id, desc=\"Selecting features\"):      \n",
    "        Xi = pd.read_hdf(features_h5, f\"game_{game_id}\")\n",
    "        X.append(Xi[Xcols])\n",
    "    X = pd.concat(X).reset_index(drop=True)\n",
    "\n",
    "    # 2. Select label Y\n",
    "    Ycols = [\"scores\",\"concedes\"]\n",
    "    Y = []\n",
    "    for game_id in tqdm.tqdm(games.game_id, desc=\"Selecting label\"):\n",
    "        Yi = pd.read_hdf(labels_h5, f\"game_{game_id}\")\n",
    "        Y.append(Yi[Ycols])\n",
    "    Y = pd.concat(Y).reset_index(drop=True)\n",
    "    \n",
    "    return X, Y"
   ]
  },
  {
   "cell_type": "code",
   "execution_count": 57,
   "metadata": {},
   "outputs": [
    {
     "name": "stderr",
     "output_type": "stream",
     "text": [
      "Selecting features:  11%|█▏        | 91/800 [00:00<00:06, 104.60it/s]"
     ]
    },
    {
     "name": "stderr",
     "output_type": "stream",
     "text": [
      "Selecting features: 100%|██████████| 800/800 [00:07<00:00, 104.67it/s]\n",
      "Selecting label: 100%|██████████| 800/800 [00:03<00:00, 202.68it/s]\n"
     ]
    },
    {
     "data": {
      "text/plain": [
       "((1686557, 154), (1686557, 2))"
      ]
     },
     "execution_count": 57,
     "metadata": {},
     "output_type": "execute_result"
    }
   ],
   "source": [
    "X_train, Y_train = getXY(train_games, Xcols, train_features_h5, train_labels_h5)\n",
    "X_train.shape, Y_train.shape"
   ]
  },
  {
   "cell_type": "code",
   "execution_count": 58,
   "metadata": {},
   "outputs": [
    {
     "name": "stderr",
     "output_type": "stream",
     "text": [
      "Selecting features:  33%|███▎      | 11/33 [00:00<00:00, 105.06it/s]"
     ]
    },
    {
     "name": "stderr",
     "output_type": "stream",
     "text": [
      "Selecting features: 100%|██████████| 33/33 [00:00<00:00, 91.39it/s] \n",
      "Selecting label: 100%|██████████| 33/33 [00:00<00:00, 171.13it/s]\n"
     ]
    },
    {
     "data": {
      "text/plain": [
       "((75786, 154), (75786, 2))"
      ]
     },
     "execution_count": 58,
     "metadata": {},
     "output_type": "execute_result"
    }
   ],
   "source": [
    "X_valid, Y_valid = getXY(valid_games, Xcols, valid_features_h5, valid_labels_h5)\n",
    "X_valid.shape, Y_valid.shape"
   ]
  },
  {
   "cell_type": "code",
   "execution_count": 59,
   "metadata": {},
   "outputs": [
    {
     "name": "stderr",
     "output_type": "stream",
     "text": [
      "Selecting features: 100%|██████████| 35/35 [00:00<00:00, 97.94it/s]\n",
      "Selecting label: 100%|██████████| 35/35 [00:00<00:00, 180.55it/s]\n"
     ]
    },
    {
     "data": {
      "text/plain": [
       "((82108, 154), (82108, 2))"
      ]
     },
     "execution_count": 59,
     "metadata": {},
     "output_type": "execute_result"
    }
   ],
   "source": [
    "X_test, Y_test = getXY(test_games,Xcols, test_features_h5, test_labels_h5)\n",
    "X_test.shape, Y_test.shape"
   ]
  },
  {
   "attachments": {},
   "cell_type": "markdown",
   "metadata": {},
   "source": [
    "## -Data preprocessing\n",
    "\n",
    "- VAEP의 game-state는 이전 state의 정보를 활용함\n",
    "- 즉, 전반->후반, 후반->연장등으로 period가 넘어가는 부분을 처러하는 코드가 구현되어있지 않음 : SPADL의 단점.\n",
    "- 저의 연구에서는 SPADL의 feature.py를 따로 처리하는 부분을 수정하지는 않았습니다."
   ]
  },
  {
   "attachments": {},
   "cell_type": "markdown",
   "metadata": {},
   "source": [
    "1. time_delta 오류값 처리 <br><br>\n",
    "- X_train, X_valid, X_test에는 오류값이 들어있는데, 바로 time_delta값이다<br>\n",
    "- time_delta = 현재 action time - 전 action time <br>\n",
    "- 위 방식대로 각 경기를 연결하면, 현재 경기의 첫번째 time_delta = 현재 경기 첫 time - 전 경기 마지막 time가 들어가므로 오류가 발생함 => 개별적으로 전처리해줌<br>"
   ]
  },
  {
   "cell_type": "code",
   "execution_count": 60,
   "metadata": {},
   "outputs": [
    {
     "data": {
      "text/plain": [
       "(800, 33, 35)"
      ]
     },
     "execution_count": 60,
     "metadata": {},
     "output_type": "execute_result"
    }
   ],
   "source": [
    "count1 = 0\n",
    "count2 = 0\n",
    "count3 = 0\n",
    "\n",
    "#train, valid, test모두 time_delata값에 음수가 들어가는 현상발생\n",
    "for i,value in enumerate(X_train['time_delta_1']):\n",
    "    if value<0:\n",
    "        count1+=1\n",
    "        \n",
    "for i,value in enumerate(X_valid['time_delta_1']):\n",
    "    if value<0:\n",
    "        count2+=1\n",
    "        \n",
    "for i,value in enumerate(X_test['time_delta_1']):\n",
    "    if value<0:\n",
    "        count3+=1\n",
    "\n",
    "count1,count2,count3"
   ]
  },
  {
   "cell_type": "code",
   "execution_count": 61,
   "metadata": {},
   "outputs": [],
   "source": [
    "def time_preprocessing(data):\n",
    "    for i in tqdm.tqdm(range(len(data))):\n",
    "        if data.loc[i,'time_delta_1'] < 0.0:\n",
    "            data.loc[i,'time_delta_1'] = 0.0\n",
    "            \n",
    "        if data.loc[i,'time_delta_2'] < 0.0:\n",
    "            data.loc[i,'time_delta_2'] = 0.0    \n",
    "\n",
    "    return data"
   ]
  },
  {
   "cell_type": "code",
   "execution_count": 62,
   "metadata": {},
   "outputs": [
    {
     "name": "stderr",
     "output_type": "stream",
     "text": [
      "  1%|▏         | 22127/1686557 [00:00<00:22, 75518.11it/s]"
     ]
    },
    {
     "name": "stderr",
     "output_type": "stream",
     "text": [
      "100%|██████████| 1686557/1686557 [00:22<00:00, 75884.40it/s]\n",
      "100%|██████████| 75786/75786 [00:00<00:00, 76436.06it/s]\n",
      "100%|██████████| 82108/82108 [00:01<00:00, 73333.48it/s]\n"
     ]
    }
   ],
   "source": [
    "X_train = time_preprocessing(X_train)\n",
    "X_valid = time_preprocessing(X_valid)\n",
    "X_test = time_preprocessing(X_test)"
   ]
  },
  {
   "cell_type": "code",
   "execution_count": 63,
   "metadata": {},
   "outputs": [
    {
     "data": {
      "text/plain": [
       "((1686557, 154), (75786, 154), (82108, 154))"
      ]
     },
     "execution_count": 63,
     "metadata": {},
     "output_type": "execute_result"
    }
   ],
   "source": [
    "X_train.shape, X_valid.shape,X_test.shape"
   ]
  },
  {
   "cell_type": "code",
   "execution_count": 64,
   "metadata": {},
   "outputs": [
    {
     "data": {
      "text/plain": [
       "((1686557, 2), (75786, 2), (82108, 2))"
      ]
     },
     "execution_count": 64,
     "metadata": {},
     "output_type": "execute_result"
    }
   ],
   "source": [
    "Y_train.shape, Y_valid.shape, Y_test.shape"
   ]
  },
  {
   "cell_type": "markdown",
   "metadata": {},
   "source": [
    "2. 레이블의 개수를 살펴보면, 대부분 scores과 concedes=0인 것을 확인할 수 있음\n",
    "\n",
    "- 득점/실점이 적은 축구에서 레이블의 불균형 문제 발생"
   ]
  },
  {
   "cell_type": "code",
   "execution_count": 65,
   "metadata": {},
   "outputs": [
    {
     "name": "stdout",
     "output_type": "stream",
     "text": [
      "scores  concedes\n",
      "False   False       1662115\n",
      "True    False         20688\n",
      "False   True           3754\n",
      "Name: count, dtype: int64 \n",
      "\n",
      "scores  concedes\n",
      "False   False       74776\n",
      "True    False         858\n",
      "False   True          152\n",
      "Name: count, dtype: int64 \n",
      "\n",
      "scores  concedes\n",
      "False   False       81005\n",
      "True    False         961\n",
      "False   True          142\n",
      "Name: count, dtype: int64\n"
     ]
    }
   ],
   "source": [
    "print(Y_train.value_counts(),'\\n')\n",
    "print(Y_valid.value_counts(),'\\n')\n",
    "print(Y_test.value_counts())"
   ]
  },
  {
   "attachments": {},
   "cell_type": "markdown",
   "metadata": {},
   "source": [
    "3. 이기고 있는 상황 / 비기고 있는 상황 / 지고 있는 상황을 categorical feature로 추가\n",
    "\n",
    "-기존 goalscore=[-8,8]의 수치형 데이터가 존재하는데, 본 연구에서는 추가적인 feature를 사용하기 위해 goalscore를 활용하여 승/패/무의 categorical data로 추가"
   ]
  },
  {
   "cell_type": "code",
   "execution_count": 66,
   "metadata": {},
   "outputs": [],
   "source": [
    "def categorical_goalscore(X):\n",
    "    #카테고리로 넣었을 때는, 패무승 중인 경우 3가지로 구분해서 feature를 추가\n",
    "    #기존 수치형데이터인 득실차는 유지하고, 새로운 카테고리 승/무/패인 상황을 추가함\n",
    "    cate = \"MatchStatus\"\n",
    "    for i, value in tqdm.tqdm(enumerate(X['goalscore_diff']),desc='Losing:0 Drawing:1 Winning:2'):\n",
    "        if value<0:\n",
    "            X.loc[i,cate] = 'Losing'\n",
    "        elif value==0:\n",
    "            X.loc[i,cate] = 'Drawing'\n",
    "        else:\n",
    "            X.loc[i,cate] = 'Winning'\n",
    "                                       \n",
    "    return X"
   ]
  },
  {
   "cell_type": "code",
   "execution_count": 67,
   "metadata": {},
   "outputs": [
    {
     "name": "stderr",
     "output_type": "stream",
     "text": [
      "Losing:0 Drawing:1 Winning:2: 4292it [00:00, 22081.97it/s]"
     ]
    },
    {
     "name": "stderr",
     "output_type": "stream",
     "text": [
      "Losing:0 Drawing:1 Winning:2: 1686557it [01:22, 20404.83it/s]\n",
      "Losing:0 Drawing:1 Winning:2: 75786it [00:03, 19775.99it/s]\n",
      "Losing:0 Drawing:1 Winning:2: 82108it [00:04, 20388.46it/s]\n"
     ]
    }
   ],
   "source": [
    "#본 연구에서는 성능이 좀 더 떨어지므로 해당 feature는 사용하진 않음\n",
    "X_train = categorical_goalscore(X_train)\n",
    "X_valid = categorical_goalscore(X_valid)\n",
    "X_test = categorical_goalscore(X_test)"
   ]
  },
  {
   "cell_type": "code",
   "execution_count": 68,
   "metadata": {},
   "outputs": [
    {
     "data": {
      "text/plain": [
       "((1686557, 155), (75786, 155), (82108, 155))"
      ]
     },
     "execution_count": 68,
     "metadata": {},
     "output_type": "execute_result"
    }
   ],
   "source": [
    "X_train.shape, X_valid.shape,X_test.shape"
   ]
  },
  {
   "attachments": {},
   "cell_type": "markdown",
   "metadata": {},
   "source": [
    "4. zone categorical data추가\n",
    "\n",
    "-기존 position데이터가 존재하지만, 각 위치를 구역(zone, grid)별로 만들어서 categorical data로 사용할 예정"
   ]
  },
  {
   "cell_type": "code",
   "execution_count": 69,
   "metadata": {},
   "outputs": [],
   "source": [
    "def get_zone_index(x, y):\n",
    "    zone_width = 108/12  # zone의 너비\n",
    "    zone_height = 72/8  # zone의 높이\n",
    "\n",
    "    # x좌표가 속하는 zone의 인덱스 계산\n",
    "    zone_col = int(x // zone_width)\n",
    "    if zone_col == 12:  # 경계 체크\n",
    "        zone_col -= 1\n",
    "\n",
    "    # y좌표가 속하는 zone의 인덱스 계산\n",
    "    zone_row = int(y // zone_height)\n",
    "    if zone_row == 8:  # 경계 체크\n",
    "        zone_row -= 1\n",
    "\n",
    "    # zone의 인덱스를 반환\n",
    "    return zone_row * 12 + zone_col"
   ]
  },
  {
   "cell_type": "code",
   "execution_count": 70,
   "metadata": {},
   "outputs": [],
   "source": [
    "def location_zone(X):\n",
    "    start_position_feature = [['start_x_a0','start_y_a0'],['start_x_a1','start_y_a1'], ['start_x_a2','start_y_a2']]\n",
    "    end_position_features = [['end_x_a0','end_y_a0'], ['end_x_a1','end_y_a1'], ['end_x_a2','end_y_a2']]\n",
    "    \n",
    "    for x_col, y_col in tqdm.tqdm(start_position_feature):\n",
    "        col_name = 'start_zone_' + x_col[-2:]\n",
    "        X[col_name] = X.apply(lambda row: get_zone_index(row[x_col], row[y_col]), axis=1)\n",
    "    \n",
    "    # 종료 위치에 대한 zone feature 추가\n",
    "    for x_col, y_col in tqdm.tqdm(end_position_features):\n",
    "        col_name = 'end_zone_' + x_col[-2:]\n",
    "        X[col_name] = X.apply(lambda row: get_zone_index(row[x_col], row[y_col]), axis=1)\n",
    "\n",
    "    return X"
   ]
  },
  {
   "cell_type": "code",
   "execution_count": 71,
   "metadata": {},
   "outputs": [
    {
     "name": "stderr",
     "output_type": "stream",
     "text": [
      "100%|██████████| 3/3 [00:54<00:00, 18.33s/it]\n",
      "100%|██████████| 3/3 [00:54<00:00, 18.04s/it]\n",
      "100%|██████████| 3/3 [00:02<00:00,  1.30it/s]\n",
      "100%|██████████| 3/3 [00:02<00:00,  1.37it/s]\n",
      "100%|██████████| 3/3 [00:02<00:00,  1.25it/s]\n",
      "100%|██████████| 3/3 [00:02<00:00,  1.28it/s]\n"
     ]
    }
   ],
   "source": [
    "X_train = location_zone(X_train)\n",
    "X_valid = location_zone(X_valid)\n",
    "X_test = location_zone(X_test)"
   ]
  },
  {
   "cell_type": "code",
   "execution_count": 72,
   "metadata": {},
   "outputs": [
    {
     "data": {
      "text/plain": [
       "((1686557, 161), (75786, 161), (82108, 161))"
      ]
     },
     "execution_count": 72,
     "metadata": {},
     "output_type": "execute_result"
    }
   ],
   "source": [
    "X_train.shape, X_valid.shape,X_test.shape"
   ]
  },
  {
   "cell_type": "markdown",
   "metadata": {},
   "source": [
    "## 이진분류에 사용할 데이터 저장"
   ]
  },
  {
   "cell_type": "code",
   "execution_count": 73,
   "metadata": {},
   "outputs": [],
   "source": [
    "folder = '../data/binary-data/'\n",
    "\n",
    "# os.makedirs(folder + 'train/')\n",
    "# os.makedirs(folder + 'valid/')\n",
    "# os.makedirs(folder + 'test/')\n",
    "\n",
    "X_train.to_csv(folder + 'train/X_train.csv', index=False)\n",
    "Y_train.to_csv(folder + 'train/Y_train.csv', index=False)\n",
    "\n",
    "X_valid.to_csv(folder + 'valid/X_valid.csv', index=False)\n",
    "Y_valid.to_csv(folder + 'valid/Y_valid.csv', index=False)\n",
    "\n",
    "X_test.to_csv(folder + 'test/X_test.csv', index=False)\n",
    "Y_test.to_csv(folder + 'test/Y_test.csv', index=False)"
   ]
  },
  {
   "cell_type": "markdown",
   "metadata": {},
   "source": [
    "## 다중 분류를 활용하기 위해 multi_data를 추가 제작"
   ]
  },
  {
   "cell_type": "code",
   "execution_count": 74,
   "metadata": {},
   "outputs": [],
   "source": [
    "multi_X_train = pd.read_csv(folder + 'train/X_train.csv')\n",
    "multi_Y_train = pd.read_csv(folder + 'train/Y_train.csv')           \n",
    "\n",
    "multi_X_valid = pd.read_csv(folder + 'valid/X_valid.csv')\n",
    "multi_Y_valid = pd.read_csv(folder + 'valid/Y_valid.csv')           \n",
    "\n",
    "multi_X_test = pd.read_csv(folder + 'test/X_test.csv')\n",
    "multi_Y_test = pd.read_csv(folder + 'test/Y_test.csv')  "
   ]
  },
  {
   "cell_type": "code",
   "execution_count": 75,
   "metadata": {},
   "outputs": [
    {
     "data": {
      "text/plain": [
       "((1686557, 161),\n",
       " (1686557, 2),\n",
       " (75786, 161),\n",
       " (75786, 2),\n",
       " (82108, 161),\n",
       " (82108, 2))"
      ]
     },
     "execution_count": 75,
     "metadata": {},
     "output_type": "execute_result"
    }
   ],
   "source": [
    "multi_X_train.shape, multi_Y_train.shape, multi_X_valid.shape, multi_Y_valid.shape, multi_X_test.shape, multi_Y_test.shape"
   ]
  },
  {
   "cell_type": "code",
   "execution_count": 76,
   "metadata": {},
   "outputs": [],
   "source": [
    "def multi_class(scores, concedes):\n",
    "    if (not scores) and (not concedes):\n",
    "        return 0\n",
    "    elif scores and (not concedes):\n",
    "        return 1\n",
    "    elif (not scores) and concedes:\n",
    "        return 2\n",
    "    else:\n",
    "        print(\"error : \",scores,concedes)\n",
    "        return np.nan  # 'score=True, concede=True'는 불가능한 조건으로 가정"
   ]
  },
  {
   "cell_type": "code",
   "execution_count": 77,
   "metadata": {},
   "outputs": [],
   "source": [
    "multi_Y_train = multi_Y_train.apply(lambda row: multi_class(row['scores'], row['concedes']), axis=1)\n",
    "multi_Y_valid = multi_Y_valid.apply(lambda row: multi_class(row['scores'], row['concedes']), axis=1)\n",
    "multi_Y_test = multi_Y_test.apply(lambda row: multi_class(row['scores'], row['concedes']), axis=1)"
   ]
  },
  {
   "cell_type": "code",
   "execution_count": 78,
   "metadata": {},
   "outputs": [
    {
     "data": {
      "text/plain": [
       "((1686557, 161), (1686557,), (75786, 161), (75786,), (82108, 161), (82108,))"
      ]
     },
     "execution_count": 78,
     "metadata": {},
     "output_type": "execute_result"
    }
   ],
   "source": [
    "multi_X_train.shape, multi_Y_train.shape, multi_X_valid.shape, multi_Y_valid.shape, multi_X_test.shape, multi_Y_test.shape"
   ]
  },
  {
   "cell_type": "code",
   "execution_count": 79,
   "metadata": {},
   "outputs": [],
   "source": [
    "folder = '../data/multiclass-data/'\n",
    "\n",
    "# os.makedirs(folder + 'train/')\n",
    "# os.makedirs(folder + 'valid/')\n",
    "# os.makedirs(folder + 'test/')\n",
    "\n",
    "multi_X_train.to_csv(folder + 'train/X_train.csv', index=False)\n",
    "multi_Y_train.to_csv(folder + 'train/Y_train.csv', index=False)\n",
    "\n",
    "multi_X_valid.to_csv(folder + 'valid/X_valid.csv', index=False)\n",
    "multi_Y_valid.to_csv(folder + 'valid/Y_valid.csv', index=False)\n",
    "\n",
    "multi_X_test.to_csv(folder + 'test/X_test.csv', index=False)\n",
    "multi_Y_test.to_csv(folder + 'test/Y_test.csv', index=False)"
   ]
  }
 ],
 "metadata": {
  "kernelspec": {
   "display_name": "base",
   "language": "python",
   "name": "python3"
  },
  "language_info": {
   "codemirror_mode": {
    "name": "ipython",
    "version": 3
   },
   "file_extension": ".py",
   "mimetype": "text/x-python",
   "name": "python",
   "nbconvert_exporter": "python",
   "pygments_lexer": "ipython3",
   "version": "3.1.0"
  },
  "orig_nbformat": 4,
  "vscode": {
   "interpreter": {
    "hash": "7e11559585671b6ea0e062e4c69e511eac2837c082bc5a0530b68ddc7f355068"
   }
  }
 },
 "nbformat": 4,
 "nbformat_minor": 2
}
