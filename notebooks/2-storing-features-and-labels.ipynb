{
 "cells": [
  {
   "attachments": {},
   "cell_type": "markdown",
   "metadata": {},
   "source": [
    "# 2. Statsbomb를 Feature, Label를 정의하기\n",
    "\n",
    "- game_id = 3773689는 score와 concede가 둘 다 true인 데이터가 존재해서 해당 경기 데이터 제거"
   ]
  },
  {
   "cell_type": "code",
   "execution_count": 1,
   "metadata": {},
   "outputs": [],
   "source": [
    "import sys\n",
    "import os\n",
    "\n",
    "# 현재 디렉토리의 상위 폴더 경로를 구합니다.\n",
    "# matplotsoccer를 설치(pip)해서 라이브러리르 사용할 수 있지만, 본 연구에서는 좀 더 시각적으로 설명하기 위해 라이브러리를 조금 수정해보았다\n",
    "parent_dir = os.path.dirname(os.getcwd())\n",
    "\n",
    "# 상위 폴더 경로를 sys.path에 추가합니다.\n",
    "sys.path.insert(0, parent_dir)"
   ]
  },
  {
   "cell_type": "code",
   "execution_count": 2,
   "metadata": {},
   "outputs": [],
   "source": [
    "import os\n",
    "import warnings\n",
    "import tqdm\n",
    "import pandas as pd\n",
    "warnings.simplefilter(action='ignore', category=pd.errors.PerformanceWarning)"
   ]
  },
  {
   "cell_type": "code",
   "execution_count": 3,
   "metadata": {},
   "outputs": [
    {
     "name": "stderr",
     "output_type": "stream",
     "text": [
      "/home/toc3/anaconda3/envs/py3_11/lib/python3.11/site-packages/dask/dataframe/_pyarrow_compat.py:23: UserWarning: You are using pyarrow version 11.0.0 which is known to be insecure. See https://www.cve.org/CVERecord?id=CVE-2023-47248 for further details. Please upgrade to pyarrow>=14.0.1 or install pyarrow-hotfix to patch your current version.\n",
      "  warnings.warn(\n"
     ]
    }
   ],
   "source": [
    "%load_ext autoreload\n",
    "%autoreload 2\n",
    "import socceraction.spadl as spadl\n",
    "import socceraction.vaep.features as fs\n",
    "import socceraction.vaep.labels as lab"
   ]
  },
  {
   "attachments": {},
   "cell_type": "markdown",
   "metadata": {},
   "source": [
    "### Train, Valid, Test 데이터의 SPADL, Feature, Label 정의하기"
   ]
  },
  {
   "cell_type": "code",
   "execution_count": 4,
   "metadata": {},
   "outputs": [],
   "source": [
    "spadl_datafolder = \"../data-fifa/La Liga/spadl-statsbomb/\"\n",
    "feature_datafolder = \"../data-fifa/La Liga/feature/\"\n",
    "label_datafoler = \"../data-fifa/La Liga/label/\"\n",
    "\n",
    "# os.makedirs(feature_datafolder)\n",
    "# os.makedirs(label_datafoler)\n",
    "\n",
    "train_spadl_h5 = os.path.join(spadl_datafolder, \"train_competitions.h5\")\n",
    "train_features_h5 = os.path.join(feature_datafolder, \"train_features.h5\")\n",
    "train_labels_h5 = os.path.join(label_datafoler, \"train_labels.h5\")\n",
    "\n",
    "valid_spadl_h5 = os.path.join(spadl_datafolder, \"valid_competitions.h5\")\n",
    "valid_features_h5 = os.path.join(feature_datafolder, \"valid_features.h5\")\n",
    "valid_labels_h5 = os.path.join(label_datafoler, \"valid_labels.h5\")\n",
    "\n",
    "test_spadl_h5 = os.path.join(spadl_datafolder, \"test_competitions.h5\")\n",
    "test_features_h5 = os.path.join(feature_datafolder, \"test_features.h5\")\n",
    "test_labels_h5 = os.path.join(label_datafoler, \"test_labels.h5\")"
   ]
  },
  {
   "cell_type": "code",
   "execution_count": 5,
   "metadata": {},
   "outputs": [
    {
     "name": "stdout",
     "output_type": "stream",
     "text": [
      "nb of games: 800\n",
      "nb of games: 33\n",
      "nb of games: 35\n"
     ]
    }
   ],
   "source": [
    "train_games = pd.read_hdf(train_spadl_h5, \"games\")\n",
    "print(\"nb of games:\", len(train_games))\n",
    "\n",
    "valid_games = pd.read_hdf(valid_spadl_h5, \"games\")\n",
    "print(\"nb of games:\", len(valid_games))\n",
    "\n",
    "test_games = pd.read_hdf(test_spadl_h5, \"games\")\n",
    "print(\"nb of games:\", len(test_games))"
   ]
  },
  {
   "cell_type": "code",
   "execution_count": 6,
   "metadata": {},
   "outputs": [
    {
     "data": {
      "text/plain": [
       "((800, 12), (33, 12), (35, 12))"
      ]
     },
     "execution_count": 6,
     "metadata": {},
     "output_type": "execute_result"
    }
   ],
   "source": [
    "train_games.shape, valid_games.shape, test_games.shape"
   ]
  },
  {
   "cell_type": "code",
   "execution_count": 7,
   "metadata": {},
   "outputs": [],
   "source": [
    "#Select feature set X\n",
    "\n",
    "xfns = [\n",
    "    fs.actiontype,\n",
    "    fs.actiontype_onehot,\n",
    "    \n",
    "    #foot, head, head/other, other\n",
    "    #foot중 왼/오른발 구분은 bodypart에서 하지 않음\n",
    "    fs.bodypart,\n",
    "    fs.bodypart_onehot,\n",
    "    \n",
    "    #수행한 액션의 왼/오른발 구분도 포함\n",
    "    # fs.bodypart_detailed,\n",
    "    # fs.bodypart_detailed_onehot,\n",
    "    \n",
    "    fs.result,\n",
    "    fs.result_onehot,\n",
    "    \n",
    "    #goalscore_team, goalscore_opponent, goalscore_diff 3개의 feature를 불러옴\n",
    "    fs.goalscore,\n",
    "    \n",
    "    #action type-result사이의 원핫인코딩\n",
    "    # fs.actiontype_result_onehot,\n",
    "    \n",
    "    #action의 시작, 끝 위치\n",
    "    fs.startlocation,\n",
    "    fs.endlocation,\n",
    "    \n",
    "    #movement : x좌표변화량, y좌표변화량\n",
    "    fs.movement,\n",
    "    \n",
    "    #space_delta : (x,y)좌표의 변화량\n",
    "    fs.space_delta,\n",
    "    \n",
    "    #startlocation, endloaction에서 goal까지 거리랑 각도\n",
    "    fs.startpolar,\n",
    "    fs.endpolar,\n",
    "    \n",
    "    #home인지 away인지\n",
    "    fs.team,\n",
    "    \n",
    "    #time : 3가지 feature가 나옴\n",
    "    #1.period_id = 전반1 / 후반2\n",
    "    #2.time_seconds = 전/후반의 시작 후에 time\n",
    "    #3.time_seconds_overall = 게임시작후 초\n",
    "    # fs.time,\n",
    "    \n",
    "    #time_delta1 = 현 action time_seconds - 전 action time_seconds\n",
    "    #time_delta2 = 현 action time_seconds - 전전 action time_seconds\n",
    "    fs.time_delta,\n",
    "    \n",
    "]"
   ]
  },
  {
   "attachments": {},
   "cell_type": "markdown",
   "metadata": {},
   "source": [
    "### train 데이터 feature, label 처리하기"
   ]
  },
  {
   "cell_type": "code",
   "execution_count": 8,
   "metadata": {},
   "outputs": [
    {
     "name": "stderr",
     "output_type": "stream",
     "text": [
      "Generating and storing features in ../data-fifa/La Liga/feature/train_features.h5:   0%|          | 2/800 [00:00<01:01, 12.94it/s]"
     ]
    },
    {
     "name": "stderr",
     "output_type": "stream",
     "text": [
      "Generating and storing features in ../data-fifa/La Liga/feature/train_features.h5: 100%|██████████| 800/800 [01:01<00:00, 13.04it/s]\n",
      "Computing and storing labels in ../data-fifa/La Liga/label/train_labels.h5: 100%|██████████| 800/800 [20:48<00:00,  1.56s/it]\n"
     ]
    }
   ],
   "source": [
    "with pd.HDFStore(train_spadl_h5) as spadlstore, pd.HDFStore(train_features_h5) as featurestore:\n",
    "    for game in tqdm.tqdm(list(train_games.itertuples()), desc=f\"Generating and storing features in {train_features_h5}\"):\n",
    "        actions = pd.read_hdf(spadlstore, f\"actions/game_{game.game_id}\")\n",
    "        gamestates = fs.gamestates(spadl.add_names(actions), 3)\n",
    "        gamestates = fs.play_left_to_right(gamestates, game.home_team_id)\n",
    "\n",
    "        X = pd.concat([fn(gamestates) for fn in xfns], axis=1)\n",
    "\n",
    "        featurestore.put(f\"game_{game.game_id}\", X, format='table')\n",
    "    \n",
    "yfns = [lab.scores, lab.concedes, lab.goal_from_shot]\n",
    "\n",
    "with pd.HDFStore(train_spadl_h5) as spadlstore, pd.HDFStore(train_labels_h5) as labelstore:\n",
    "    for game in tqdm.tqdm(list(train_games.itertuples()), desc=f\"Computing and storing labels in {train_labels_h5}\"):\n",
    "        actions = pd.read_hdf(spadlstore, f\"actions/game_{game.game_id}\")   \n",
    "        Y = pd.concat([fn(spadl.add_names(actions)) for fn in yfns], axis=1)\n",
    "        labelstore.put(f\"game_{game.game_id}\", Y, format='table')"
   ]
  },
  {
   "attachments": {},
   "cell_type": "markdown",
   "metadata": {},
   "source": [
    "### valid데이터 feature, label 처리하기"
   ]
  },
  {
   "cell_type": "code",
   "execution_count": 9,
   "metadata": {},
   "outputs": [
    {
     "name": "stderr",
     "output_type": "stream",
     "text": [
      "Generating and storing features in ../data-fifa/La Liga/feature/valid_features.h5:  12%|█▏        | 4/33 [00:00<00:02, 14.24it/s]"
     ]
    },
    {
     "name": "stderr",
     "output_type": "stream",
     "text": [
      "Generating and storing features in ../data-fifa/La Liga/feature/valid_features.h5: 100%|██████████| 33/33 [00:02<00:00, 13.84it/s]\n",
      "Computing and storing labels in ../data-fifa/La Liga/label/valid_labels.h5: 100%|██████████| 33/33 [00:55<00:00,  1.68s/it]\n"
     ]
    }
   ],
   "source": [
    "with pd.HDFStore(valid_spadl_h5) as spadlstore, pd.HDFStore(valid_features_h5) as featurestore:\n",
    "    for game in tqdm.tqdm(list(valid_games.itertuples()), desc=f\"Generating and storing features in {valid_features_h5}\"):\n",
    "        actions = pd.read_hdf(spadlstore, f\"actions/game_{game.game_id}\")\n",
    "        gamestates = fs.gamestates(spadl.add_names(actions), 3)\n",
    "        gamestates = fs.play_left_to_right(gamestates, game.home_team_id)\n",
    "\n",
    "        X = pd.concat([fn(gamestates) for fn in xfns], axis=1)\n",
    "\n",
    "        featurestore.put(f\"game_{game.game_id}\", X, format='table')\n",
    "    \n",
    "yfns = [lab.scores, lab.concedes, lab.goal_from_shot]\n",
    "\n",
    "with pd.HDFStore(valid_spadl_h5) as spadlstore, pd.HDFStore(valid_labels_h5) as labelstore:\n",
    "    for game in tqdm.tqdm(list(valid_games.itertuples()), desc=f\"Computing and storing labels in {valid_labels_h5}\"):\n",
    "        actions = pd.read_hdf(spadlstore, f\"actions/game_{game.game_id}\")   \n",
    "        Y = pd.concat([fn(spadl.add_names(actions)) for fn in yfns], axis=1)\n",
    "        labelstore.put(f\"game_{game.game_id}\", Y, format='table')"
   ]
  },
  {
   "attachments": {},
   "cell_type": "markdown",
   "metadata": {},
   "source": [
    "### test데이터 feature, label 처리하기"
   ]
  },
  {
   "cell_type": "code",
   "execution_count": 10,
   "metadata": {},
   "outputs": [
    {
     "name": "stderr",
     "output_type": "stream",
     "text": [
      "Generating and storing features in ../data-fifa/La Liga/feature/test_features.h5: 100%|██████████| 35/35 [00:02<00:00, 13.87it/s]\n",
      "Computing and storing labels in ../data-fifa/La Liga/label/test_labels.h5: 100%|██████████| 35/35 [01:00<00:00,  1.73s/it]\n"
     ]
    }
   ],
   "source": [
    "with pd.HDFStore(test_spadl_h5) as spadlstore, pd.HDFStore(test_features_h5) as featurestore:\n",
    "    for game in tqdm.tqdm(list(test_games.itertuples()), desc=f\"Generating and storing features in {test_features_h5}\"):\n",
    "        actions = pd.read_hdf(spadlstore, f\"actions/game_{game.game_id}\")\n",
    "        gamestates = fs.gamestates(spadl.add_names(actions), 3)\n",
    "        gamestates = fs.play_left_to_right(gamestates, game.home_team_id)\n",
    "\n",
    "        X = pd.concat([fn(gamestates) for fn in xfns], axis=1)\n",
    "\n",
    "        featurestore.put(f\"game_{game.game_id}\", X, format='table')\n",
    "    \n",
    "yfns = [lab.scores, lab.concedes, lab.goal_from_shot]\n",
    "\n",
    "with pd.HDFStore(test_spadl_h5) as spadlstore, pd.HDFStore(test_labels_h5) as labelstore:\n",
    "    for game in tqdm.tqdm(list(test_games.itertuples()), desc=f\"Computing and storing labels in {test_labels_h5}\"):\n",
    "\n",
    "        actions = pd.read_hdf(spadlstore, f\"actions/game_{game.game_id}\")   \n",
    "        Y = pd.concat([fn(spadl.add_names(actions)) for fn in yfns], axis=1)\n",
    "        labelstore.put(f\"game_{game.game_id}\", Y, format='table')"
   ]
  }
 ],
 "metadata": {
  "kernelspec": {
   "display_name": "base",
   "language": "python",
   "name": "python3"
  },
  "language_info": {
   "codemirror_mode": {
    "name": "ipython",
    "version": 3
   },
   "file_extension": ".py",
   "mimetype": "text/x-python",
   "name": "python",
   "nbconvert_exporter": "python",
   "pygments_lexer": "ipython3",
   "version": "3.1.0"
  },
  "orig_nbformat": 4,
  "vscode": {
   "interpreter": {
    "hash": "7e11559585671b6ea0e062e4c69e511eac2837c082bc5a0530b68ddc7f355068"
   }
  }
 },
 "nbformat": 4,
 "nbformat_minor": 2
}
